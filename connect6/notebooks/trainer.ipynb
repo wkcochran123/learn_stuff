{
 "cells": [
  {
   "cell_type": "code",
   "execution_count": 1,
   "id": "c31cb62f-b644-43d5-b18e-d929e1758bc8",
   "metadata": {},
   "outputs": [
    {
     "name": "stdout",
     "output_type": "stream",
     "text": [
      "Data loaded\n"
     ]
    }
   ],
   "source": [
    "import numpy as np\n",
    "\n",
    "X = np.load(\"X.boards.by.win.loss.npy\")\n",
    "y = np.load(\"Y.borads.category.npy\")\n",
    "\n",
    "print (\"Data loaded\")\n"
   ]
  },
  {
   "cell_type": "code",
   "execution_count": null,
   "id": "f558169e-2fc0-49a7-bf28-7fad85dd2f02",
   "metadata": {},
   "outputs": [
    {
     "name": "stdout",
     "output_type": "stream",
     "text": [
      "Split data\n",
      "compiling the model ready to train...\n",
      "Epoch 1/10\n",
      "16302/16302 [==============================] - 20698s 1s/step - loss: 1.5376 - accuracy: 0.0088 - val_loss: 1.8714 - val_accuracy: 0.0000e+00\n",
      "Epoch 2/10\n",
      "14632/16302 [=========================>....] - ETA: 33:00 - loss: 1.8746 - accuracy: 0.0000e+00"
     ]
    }
   ],
   "source": [
    "# time for the machine to do some learning!  This block will try to train a classifier that can\n",
    "# identify connect 6 boards that arise during game play\n",
    "\n",
    "import math\n",
    "import tensorflow as tf\n",
    "from tensorflow.keras import layers, models\n",
    "from tensorflow.keras.optimizers.legacy import Adam\n",
    "\n",
    "from sklearn.model_selection import train_test_split\n",
    "\n",
    "\n",
    "# Split the dataset into training and test sets\n",
    "X_train, X_test, y_train, y_test = train_test_split(X, y, test_size=0.2, random_state=42)\n",
    "\n",
    "print (\"Split data\")\n",
    "\n",
    "model = models.Sequential()\n",
    "\n",
    "# Input layer: Adjust the input shape to fit your 19x19 grid with 1 channel (if grayscale)\n",
    "model.add(layers.Conv2D(4096, (3, 3), activation='relu', input_shape=(19, 19, 1)))\n",
    "model.add(layers.MaxPooling2D((2, 2)))\n",
    "layers.Dropout(0.25)\n",
    "\n",
    "# Additional Convolutional Layers\n",
    "model.add(layers.Conv2D(4096, (3, 3), activation='relu'))\n",
    "model.add(layers.MaxPooling2D((2, 2)))\n",
    "layers.Dropout(0.25)\n",
    "model.add(layers.Conv2D(4096, (3, 3), activation='relu'))\n",
    "\n",
    "# Flattening the 3D output to 1D\n",
    "model.add(layers.Flatten())\n",
    "\n",
    "# Dense layers for classification or regression\n",
    "model.add(layers.Dense(16384, activation='relu'))\n",
    "layers.Dropout(0.40)\n",
    "model.add(layers.Dense(16384, activation='relu'))\n",
    "layers.Dropout(0.40)\n",
    "model.add(layers.Dense(16384, activation='relu'))\n",
    "layers.Dropout(0.40)\n",
    "model.add(layers.Dense(16384, activation='relu'))\n",
    "layers.Dropout(0.40)\n",
    "\n",
    "# Output layer: Adjust the number of neurons & activation according to your task\n",
    "# For binary classification, use 1 neuron with 'sigmoid' activation\n",
    "# For multi-class classification, use N neurons (where N is the number of classes) with 'softmax' activation\n",
    "model.add(layers.Dense(1, activation='tanh'))  # Example for binary classification\n",
    "\n",
    "model.compile(optimizer=Adam(learning_rate=0.0001),\n",
    "              loss='mean_squared_error',  # Adjust based on the task\n",
    "              metrics=['accuracy'])\n",
    "\n",
    "\n",
    "print (\"compiling the model ready to train...\")\n",
    "\n",
    "# Train the model\n",
    "history = model.fit(X_train, y_train, epochs=10, batch_size=256, validation_data=(X_test, y_test))\n",
    "\n",
    "# Evaluate the model on the test data\n",
    "test_loss, test_acc = model.evaluate(X_test, y_test, verbose=2)\n",
    "print(f\"Test accuracy: {test_acc}\")"
   ]
  },
  {
   "cell_type": "code",
   "execution_count": null,
   "id": "d6f2e69b-9be4-4682-886a-397a97eef2a1",
   "metadata": {},
   "outputs": [],
   "source": []
  }
 ],
 "metadata": {
  "kernelspec": {
   "display_name": "Python 3.10 (tensorflow)",
   "language": "python",
   "name": "tensorflow"
  },
  "language_info": {
   "codemirror_mode": {
    "name": "ipython",
    "version": 3
   },
   "file_extension": ".py",
   "mimetype": "text/x-python",
   "name": "python",
   "nbconvert_exporter": "python",
   "pygments_lexer": "ipython3",
   "version": "3.10.13"
  }
 },
 "nbformat": 4,
 "nbformat_minor": 5
}
