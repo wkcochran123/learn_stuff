{
 "cells": [
  {
   "cell_type": "code",
   "execution_count": 39,
   "id": "10762029-dda3-4deb-a50e-f56569ffa49d",
   "metadata": {},
   "outputs": [],
   "source": [
    "#CONSTANTS TO RUN THE PAGE\n",
    "\n",
    "PATH_TO_DATA=\"/Users/williamcochran/Code/learn_stuff/connect6/data/\"\n",
    "FIRST_MOVE=\"J10\"\n"
   ]
  },
  {
   "cell_type": "code",
   "execution_count": 41,
   "id": "46443ac6-db83-45ac-a108-eb1b19c19cd4",
   "metadata": {},
   "outputs": [
    {
     "name": "stdout",
     "output_type": "stream",
     "text": [
      "Reading 11936.data\n",
      "Reading 166925.data\n",
      "Reading 15609.data\n",
      "Reading 35959.data\n",
      "Reading 36197.data\n",
      "Reading 142840.data\n",
      "Reading 14287.data\n",
      "Loaded 21478 games.\n"
     ]
    }
   ],
   "source": [
    "#Let's read some data!\n",
    "import os\n",
    "\n",
    "# File finder and reader.. returns a list of moves\n",
    "def parse_game_file (filename):\n",
    "    with open(filename, \"r\") as f:\n",
    "        lines = f.readlines()\n",
    "        games = []\n",
    "        for line in lines:\n",
    "            if line[0] != \"(\" and line[-1] != \")\":\n",
    "                print(\"Found a bad line: {}\".format(line))\n",
    "            trimmed = line[1:-2]\n",
    "            keys=trimmed.split(';')\n",
    "            keys = keys[3:]\n",
    "            moves = [k[2:-1] for k in keys]\n",
    "            if len(moves)>0:\n",
    "                games.append(moves)\n",
    "    return games\n",
    "\n",
    "# Look for all files in the data path\n",
    "def read_all_data (path=PATH_TO_DATA):\n",
    "    games = []\n",
    "    all_files = os.listdir(path)\n",
    "    data_files = [file for file in all_files if file.endswith(\".data\")]\n",
    "    for file in data_files:\n",
    "        print (\"Reading {}\".format(file))\n",
    "        games.extend(parse_game_file (PATH_TO_DATA + file))\n",
    "    return games\n",
    "\n",
    "games = read_all_data()\n",
    "print (\"Loaded {} games.\".format(len(games)))"
   ]
  },
  {
   "cell_type": "code",
   "execution_count": null,
   "id": "b313754b-8132-43bb-a625-ec6819f824a3",
   "metadata": {},
   "outputs": [],
   "source": []
  }
 ],
 "metadata": {
  "kernelspec": {
   "display_name": "Python 3.10 (tensorflow)",
   "language": "python",
   "name": "tensorflow"
  },
  "language_info": {
   "codemirror_mode": {
    "name": "ipython",
    "version": 3
   },
   "file_extension": ".py",
   "mimetype": "text/x-python",
   "name": "python",
   "nbconvert_exporter": "python",
   "pygments_lexer": "ipython3",
   "version": "3.10.13"
  }
 },
 "nbformat": 4,
 "nbformat_minor": 5
}
